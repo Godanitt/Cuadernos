{
 "cells": [
  {
   "cell_type": "markdown",
   "id": "ba49a5c6",
   "metadata": {},
   "source": [
    "## Capítulo 3"
   ]
  },
  {
   "cell_type": "markdown",
   "id": "5c0d72bd",
   "metadata": {},
   "source": [
    "### Ejercicio 3.4"
   ]
  },
  {
   "cell_type": "code",
   "execution_count": 1,
   "id": "3875266b",
   "metadata": {},
   "outputs": [
    {
     "name": "stdout",
     "output_type": "stream",
     "text": [
      "3 0.5109989506917532\n",
      "5.870853542730017\n",
      "La energía del fotoelectrón MeV es 0.4366269752866834\n",
      "La energía del electron es 2.5633730247133166\n",
      "----------------------------------------\n",
      "3 0.5109989506917532\n",
      "5.870853542730017\n",
      "La energía del fotoelectrón MeV es 0.23544725835232824\n",
      "La energía del electron es 2.764552741647672\n",
      "----------------------------------------\n",
      "El ángulo dispersado es 22.323578211058592\n"
     ]
    }
   ],
   "source": [
    "import scipy.constants as cte\n",
    "import numpy as np \n",
    "\n",
    "def Eprima(Ei,theta,me):   \n",
    "    print(Ei,me)\n",
    "    epsilon=Ei/me \n",
    "    print(epsilon)\n",
    "    return Ei/(1+epsilon*(1-np.cos(theta)))\n",
    "\n",
    "def theta_dispersada(Ei,Ef,me):\n",
    "    epsilon=Ei/me \n",
    "    return np.arccos(1-(1-Ef/Ei)/epsilon)\n",
    "\n",
    "\n",
    "Egamma_i=3\n",
    "me=cte.m_e*(cte.c**2)/(cte.e*1000000)\n",
    "epsilon=Egamma_i/me \n",
    "Egamma_f = Eprima(Egamma_i,np.pi/2,me)\n",
    "print(\"La energía del fotoelectrón MeV es\", Egamma_f)\n",
    "print(\"La energía del electron es\", Egamma_i-Egamma_f)\n",
    "print(\"-\"*40)\n",
    "Egamma_f2= Eprima(Egamma_i,np.pi,me)\n",
    "print(\"La energía del fotoelectrón MeV es\", Egamma_f2)\n",
    "print(\"La energía del electron es\", Egamma_i-Egamma_f2)\n",
    "print(\"-\"*40)\n",
    "thetaf=theta_dispersada(Egamma_i,Egamma_i*0.56,me)\n",
    "print(\"El ángulo dispersado es\",thetaf*180/np.pi)\n"
   ]
  },
  {
   "cell_type": "markdown",
   "id": "d96f2373",
   "metadata": {},
   "source": [
    "### Ejercicio 3.5"
   ]
  },
  {
   "cell_type": "code",
   "execution_count": 2,
   "id": "98c4bfc8",
   "metadata": {},
   "outputs": [
    {
     "name": "stdout",
     "output_type": "stream",
     "text": [
      "la primera 0.03605033228739332\n",
      "la segunda 0.7284099933856922\n",
      "la primera 0.07259541955530385\n",
      "la segunda 0.987386167610586\n",
      "----------------------------------------\n",
      "los 20 MeV: 0.7210066457478664 1.451908391106077\n",
      "----------------------------------------\n",
      "los 20 MeV: 14.531290752421684 19.747723352211718\n"
     ]
    }
   ],
   "source": [
    "def fc_ultra(epsilon):\n",
    "    return (np.log(2*epsilon)-0.82)/(np.log(2*epsilon)+0.5)\n",
    "\n",
    "def fc(eps):\n",
    "    num = (2*(1+eps)**2)/(eps**2*(1+2*eps)) \\\n",
    "          - (1+3*eps)/((1+2*eps)**2) \\\n",
    "          - (1+eps)*(2*eps**2 - 2*eps - 1)/(eps**2*(1+2*eps)**2) \\\n",
    "          - (4*eps**2)/(3*(1+2*eps)**3) \\\n",
    "          - ((1+eps)/eps**3 - 1/(2*eps) + 1/(2*eps**3)) * np.log(1+2*eps)\n",
    "\n",
    "    den = (1+eps)/eps**2 * (2*(1+eps)/(1+2*eps) - np.log(1+2*eps)/eps) \\\n",
    "          + np.log(1+2*eps)/(2*eps) - (1+3*eps)/((1+2*eps)**2)\n",
    "\n",
    "    return num/den\n",
    "\n",
    "Egamma=0.020\n",
    "me=cte.m_e*(cte.c**2)/(cte.e*1000000)\n",
    "epsilon=Egamma/me \n",
    "print(\"la primera\",fc(epsilon))\n",
    "Egamma=20\n",
    "me=cte.m_e*(cte.c**2)/(cte.e*1000000)\n",
    "epsilon=Egamma/me \n",
    "print(\"la segunda\",fc_ultra(epsilon))\n",
    "\n",
    "def fc_max(eps):\n",
    "      return (epsilon*2/(1+2*epsilon))\n",
    "\n",
    "Egamma=0.020\n",
    "me=cte.m_e*(cte.c**2)/(cte.e*1000000)\n",
    "epsilon=Egamma/me \n",
    "print(\"la primera\",fc_max(epsilon))\n",
    "Egamma=20\n",
    "me=cte.m_e*(cte.c**2)/(cte.e*1000000)\n",
    "epsilon=Egamma/me \n",
    "print(\"la segunda\",fc_max(epsilon))\n",
    "\n",
    "print(\"-\"*40)\n",
    "Egamma=0.020\n",
    "me=cte.m_e*(cte.c**2)/(cte.e*1000000)\n",
    "epsilon=Egamma/me \n",
    "print(\"los 20 MeV:\",fc(epsilon)*20,fc_max(epsilon)*20)\n",
    "print(\"-\"*40)\n",
    "Egamma=20\n",
    "me=cte.m_e*(cte.c**2)/(cte.e*1000000)\n",
    "epsilon=Egamma/me \n",
    "print(\"los 20 MeV:\",fc(epsilon)*20,fc_max(epsilon)*20)\n"
   ]
  },
  {
   "cell_type": "markdown",
   "id": "9b9d7c8b",
   "metadata": {},
   "source": [
    "### Ejercicio 3.7\n"
   ]
  },
  {
   "cell_type": "code",
   "execution_count": null,
   "id": "f1f8be9a",
   "metadata": {},
   "outputs": [
    {
     "name": "stdout",
     "output_type": "stream",
     "text": [
      "0.48900104930824684\n",
      "9.489001049308246\n",
      "0.3260006995388312\n",
      "6.326000699538831\n"
     ]
    }
   ],
   "source": [
    "import numpy as np \n",
    "import matplotlib.pyplot as plt \n",
    "import scipy.constants as cte \n",
    "\n",
    "me_MeV = cte.m_e/cte.e*cte.c**2/1e+06\n",
    "\n",
    "def EkNPP(E):\n",
    "    return (E-2*me_MeV)/2\n",
    "\n",
    "def EkTP(E):\n",
    "    return (E-2*me_MeV)/3\n",
    "\n",
    "print(EkNPP(2))\n",
    "print(EkNPP(20))\n",
    "print(EkTP(2))\n",
    "print(EkTP(20))\n"
   ]
  },
  {
   "cell_type": "markdown",
   "id": "893af5de",
   "metadata": {},
   "source": [
    "### Ejercicio 3.9"
   ]
  },
  {
   "cell_type": "code",
   "execution_count": 19,
   "id": "91e69168",
   "metadata": {},
   "outputs": [
    {
     "name": "stdout",
     "output_type": "stream",
     "text": [
      "693.1471805599452\n",
      "6.607694762249239e-05\n",
      "118.34760850993509\n"
     ]
    }
   ],
   "source": [
    "import numpy as np \n",
    "import matplotlib.pyplot as plt \n",
    "import scipy.constants as cte \n",
    "\n",
    "\n",
    "me_MeV = cte.m_e/cte.e*cte.c**2/1e+06\n",
    "def mu(x,factor):\n",
    "    mu = np.log(factor)/x\n",
    "    return mu\n",
    "\n",
    "mu_data=mu(0.002,4)\n",
    "\n",
    "print(mu_data)\n",
    "A=107.86\n",
    "rho=10490*1000\n",
    "print(mu_data/rho)\n",
    "def sigma(mu,rho,A): \n",
    "    n =A/cte.N_A/rho\n",
    "    return mu*n\n",
    "\n",
    "print(sigma(mu_data,rho,A)*1e28)\n"
   ]
  }
 ],
 "metadata": {
  "kernelspec": {
   "display_name": ".venv (3.12.3)",
   "language": "python",
   "name": "python3"
  },
  "language_info": {
   "codemirror_mode": {
    "name": "ipython",
    "version": 3
   },
   "file_extension": ".py",
   "mimetype": "text/x-python",
   "name": "python",
   "nbconvert_exporter": "python",
   "pygments_lexer": "ipython3",
   "version": "3.12.3"
  }
 },
 "nbformat": 4,
 "nbformat_minor": 5
}
