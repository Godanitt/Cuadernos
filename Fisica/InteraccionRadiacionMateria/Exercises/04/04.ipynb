{
 "cells": [
  {
   "cell_type": "markdown",
   "id": "5e8933df",
   "metadata": {},
   "source": [
    "# Ejercicios Neutrones"
   ]
  },
  {
   "cell_type": "code",
   "execution_count": 2,
   "id": "4f446467",
   "metadata": {},
   "outputs": [],
   "source": [
    "import numpy as np \n",
    "import matplotlib.pyplot as plt\n",
    "\n",
    "import scipy.constants as cte \n",
    "from scipy.constants import physical_constants"
   ]
  },
  {
   "cell_type": "code",
   "execution_count": 3,
   "id": "c5760e45",
   "metadata": {},
   "outputs": [],
   "source": [
    "import pandas as pd \n",
    "\n",
    "def si_formatter(x):\n",
    "    return r\"$\\SI{{{:.2e}}}{{}}$\".format(x)\n",
    "\n",
    "def export_dataframe_to_tex(df, headers,filename=\"output.tex\",captions=\"\",labels=\"\"):\n",
    "    \"\"\"\n",
    "    Exporta un DataFrame a LaTeX con \\toprule y \\bottomrule,\n",
    "    sin encabezados ni índices. El header se añade a mano en el .tex.\n",
    "    \"\"\"\n",
    "    latex_str = df.to_latex(\n",
    "        buf=None,\n",
    "        header=True,              # No encabezados automáticos\n",
    "        index=False,               # No índices\n",
    "        #na_rep=\"NaN\",              \n",
    "        float_format=si_formatter,\n",
    "        column_format=\"l\"+\"c\" * (df.shape[1]+10),  # Número de columnas según DataFrame\n",
    "        longtable=False,           # Evita bloques firsthead/lastfoot\n",
    "        escape=False,              # Permitir LaTeX en celdas\n",
    "        multicolumn=False,\n",
    "        multirow=False,\n",
    "        caption=captions,\n",
    "        label=labels,\n",
    "        #siunitx=True\n",
    "    )\n",
    "    \n",
    "    with open(filename, \"w\", encoding=\"utf-8\") as f:\n",
    "        f.write(latex_str)\n",
    "\n",
    "    print(f\"Archivo LaTeX generado: {filename}\")\n",
    "\n"
   ]
  },
  {
   "cell_type": "markdown",
   "id": "37fa99dd",
   "metadata": {},
   "source": [
    "## Ej 1"
   ]
  },
  {
   "cell_type": "code",
   "execution_count": 4,
   "id": "d83a091c",
   "metadata": {},
   "outputs": [
    {
     "name": "stdout",
     "output_type": "stream",
     "text": [
      "1.322314049586777\n"
     ]
    }
   ],
   "source": [
    "def Etrans_max(M,m,Ek):\n",
    "    return (4*M*m/((M+m)**2))*Ek\n",
    "\n",
    "M=10\n",
    "m=1\n",
    "\n",
    "print(Etrans_max(M,m,4))"
   ]
  },
  {
   "cell_type": "markdown",
   "id": "c496bdb3",
   "metadata": {},
   "source": [
    "## Ej 2"
   ]
  },
  {
   "cell_type": "code",
   "execution_count": 5,
   "id": "fef9f841",
   "metadata": {},
   "outputs": [
    {
     "name": "stdout",
     "output_type": "stream",
     "text": [
      "Archivo LaTeX generado: 04-02.tex\n"
     ]
    }
   ],
   "source": [
    "header=np.array([\"\",\"$^2$ H\",\"$^{12}$C\"])\n",
    "\n",
    "index=np.array([\"$(\\\\Delta E)_{\\\\max}/E_K$ (\\\\%)\",\n",
    "                \"$\\\\overline{\\\\Delta E}$ [MeV]\",\n",
    "                \"$(\\\\Delta E)_{\\\\max}$ [MeV]\"])\n",
    "\n",
    "data=np.zeros((3,3),dtype=object)\n",
    "data[:,0]=index\n",
    "data[0,1:]=np.array([Etrans_max(2,1,1),Etrans_max(12,1,1)])*100\n",
    "data[2,1:]=[Etrans_max(2,1,2),Etrans_max(12,1,2.6)]\n",
    "data[1,1:]=[Etrans_max(2,1,2)/2,Etrans_max(12,1,2.6)/2]\n",
    "\n",
    "df = pd.DataFrame(\n",
    "    data=data[:, :],         # todas las filas excepto la cabecera\n",
    "    columns=header       # primera fila = header\n",
    ")\n",
    "\n",
    "export_dataframe_to_tex(df,headers=header,filename=\"04-02.tex\",captions=f\"\")\n",
    "\n"
   ]
  },
  {
   "cell_type": "markdown",
   "id": "b6c33c1f",
   "metadata": {},
   "source": [
    "## Ej 3"
   ]
  },
  {
   "cell_type": "code",
   "execution_count": 6,
   "id": "28d8c5c2",
   "metadata": {},
   "outputs": [
    {
     "name": "stdout",
     "output_type": "stream",
     "text": [
      "0.04615384615384615\n",
      "0.8592031503794567\n",
      "57.51449974380755\n",
      "32.48550025619245\n"
     ]
    }
   ],
   "source": [
    "E1=0.63\n",
    "E2=0.75\n",
    "Ek=2.6\n",
    "M=1\n",
    "m=1\n",
    "\n",
    "print((E2-E1)/Ek)\n",
    "print(np.cos(np.sqrt(E2/Ek)))\n",
    "phi_rad=np.arccos(np.sqrt(E2/Ek))\n",
    "phi_deg=phi_rad*180/np.pi\n",
    "print(phi_deg)\n",
    "print(np.arcsin(np.sqrt(E2/(Ek-E2))*np.sin(phi_rad))*180/np.pi)\n"
   ]
  },
  {
   "cell_type": "markdown",
   "id": "f493bd93",
   "metadata": {},
   "source": [
    "## Ej 4"
   ]
  },
  {
   "cell_type": "code",
   "execution_count": 7,
   "id": "ec073886",
   "metadata": {},
   "outputs": [
    {
     "name": "stdout",
     "output_type": "stream",
     "text": [
      "928.3100640000011\n"
     ]
    }
   ],
   "source": [
    "Dp=7288.971064 \n",
    "Dn=8071.3181 \n",
    "DP=-24304.88 \n",
    "DS=-26015.5371 \n",
    "\n",
    "print(DP+Dp-Dn-DS)"
   ]
  },
  {
   "cell_type": "markdown",
   "id": "79b62b2f",
   "metadata": {},
   "source": [
    "## Ej 5"
   ]
  },
  {
   "cell_type": "code",
   "execution_count": 8,
   "id": "56ebc4c5",
   "metadata": {},
   "outputs": [
    {
     "name": "stdout",
     "output_type": "stream",
     "text": [
      "0.0165\n"
     ]
    }
   ],
   "source": [
    "def sigma_v(sigma0,E,E0):\n",
    "    return sigma0*np.sqrt(E0/E)\n",
    "\n",
    "print(sigma_v(0.33,10,0.025))\n"
   ]
  },
  {
   "cell_type": "markdown",
   "id": "ba73d8fb",
   "metadata": {},
   "source": [
    "## Ej 6"
   ]
  },
  {
   "cell_type": "code",
   "execution_count": 9,
   "id": "bc4f7bf5",
   "metadata": {},
   "outputs": [
    {
     "name": "stdout",
     "output_type": "stream",
     "text": [
      "0.1565327441783348\n",
      "0.0092352186936682\n",
      "24.162237919411723\n"
     ]
    }
   ],
   "source": [
    "\n",
    "def mu(sigma,rho,A): \n",
    "    \"\"\" Devuelve el coeficiente de atenuación [m⁻¹] para una sección eficaz [m²], densidad y número másico\"\"\"\n",
    "    return sigma*rho*cte.N_A/A\n",
    "\n",
    "sigma=sigma_v(0.99,1,0.025)\n",
    "print(sigma)\n",
    "\n",
    "rho=19.3\n",
    "mu_data=mu(sigma*1e-24,rho,197)\n",
    "print(mu_data)\n",
    "print(np.log(5/4)/mu_data)"
   ]
  },
  {
   "cell_type": "markdown",
   "id": "5390e52c",
   "metadata": {},
   "source": [
    "## Ej 8"
   ]
  },
  {
   "cell_type": "code",
   "execution_count": 10,
   "id": "d34706fe",
   "metadata": {},
   "outputs": [
    {
     "name": "stdout",
     "output_type": "stream",
     "text": [
      "1.1152112518518516e+21\n",
      "1506.6504012518515\n"
     ]
    }
   ],
   "source": [
    "\n",
    "N10B=(10/(10+44))*1000*cte.N_A/10/10000\n",
    "print(N10B)\n",
    "\n",
    "print(0.7*N10B*19.3*10**(-24+5))"
   ]
  },
  {
   "cell_type": "markdown",
   "id": "742ab602",
   "metadata": {},
   "source": [
    "## Ej 9"
   ]
  },
  {
   "cell_type": "code",
   "execution_count": 11,
   "id": "1bc057d6",
   "metadata": {},
   "outputs": [
    {
     "name": "stdout",
     "output_type": "stream",
     "text": [
      "17589.299825000002\n",
      "3268.908810000001\n"
     ]
    }
   ],
   "source": [
    "Dt = 14949.81090\n",
    "DHe4=2424.91587\n",
    "DHe3=14931.21888\n",
    "Dd = 13135.722895\n",
    "Dn = 8071.3181\n",
    "\n",
    "print(Dt+Dd-DHe4-Dn)\n",
    "print(Dd+Dd-DHe3-Dn)"
   ]
  },
  {
   "cell_type": "markdown",
   "id": "1df05283",
   "metadata": {},
   "source": [
    "## Ej 10"
   ]
  },
  {
   "cell_type": "code",
   "execution_count": 12,
   "id": "d0b71961",
   "metadata": {},
   "outputs": [
    {
     "name": "stdout",
     "output_type": "stream",
     "text": [
      "0.8272143997073921\n",
      "36.301031141506336\n"
     ]
    }
   ],
   "source": [
    "Mt = 3.0160492*cte.m_u*cte.c**2/(cte.e*10**6)\n",
    "E = 5000\n",
    "beta=np.sqrt(E**2-Mt**2)/(E)\n",
    "print(np.sqrt(E**2-Mt**2)/(E))\n",
    "print(np.arccos(1/1.5/beta)*180/np.pi)"
   ]
  },
  {
   "cell_type": "markdown",
   "id": "d016b1da",
   "metadata": {},
   "source": [
    "## Ej 11"
   ]
  },
  {
   "cell_type": "code",
   "execution_count": null,
   "id": "d9704715",
   "metadata": {},
   "outputs": [
    {
     "name": "stdout",
     "output_type": "stream",
     "text": [
      "21.113810541834418\n"
     ]
    }
   ],
   "source": [
    "n = 1.000293\n",
    "\n",
    "me_MeV=cte.m_e/cte.e*cte.c**2/10**6\n",
    "\n",
    "beta=1/n\n",
    "\n",
    "gamma=1/np.sqrt(1-beta**2)\n",
    "me_MeV\n",
    "print(gamma*me_MeV)"
   ]
  }
 ],
 "metadata": {
  "kernelspec": {
   "display_name": ".venv (3.12.3)",
   "language": "python",
   "name": "python3"
  },
  "language_info": {
   "codemirror_mode": {
    "name": "ipython",
    "version": 3
   },
   "file_extension": ".py",
   "mimetype": "text/x-python",
   "name": "python",
   "nbconvert_exporter": "python",
   "pygments_lexer": "ipython3",
   "version": "3.12.3"
  }
 },
 "nbformat": 4,
 "nbformat_minor": 5
}
