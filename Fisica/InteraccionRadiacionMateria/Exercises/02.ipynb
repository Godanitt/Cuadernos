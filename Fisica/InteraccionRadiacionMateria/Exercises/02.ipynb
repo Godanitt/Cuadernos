{
 "cells": [
  {
   "cell_type": "markdown",
   "id": "9de5c57c",
   "metadata": {},
   "source": [
    "# Ejercicios tema 2"
   ]
  },
  {
   "cell_type": "markdown",
   "id": "1596e46b",
   "metadata": {},
   "source": [
    "## Ejercicio 3"
   ]
  },
  {
   "cell_type": "markdown",
   "id": "1c30f991",
   "metadata": {},
   "source": [
    "Básicamente tenemos que calcular $\\Delta p_{\\min}$, $\\Delta p_{\\max}$, $\\Delta E_{\\min}$ y $\\Delta E_{\\min}$ para los $Z$ que nos presentan. Las ecuaciones que hemos usado son "
   ]
  },
  {
   "cell_type": "code",
   "execution_count": null,
   "id": "8696a424",
   "metadata": {},
   "outputs": [],
   "source": [
    "import numpy as np \n",
    "import matplotlib.pyplot as plt \n",
    "import pandas as pd \n",
    "\n",
    "def DEmax(Ek0):\n",
    "    DEmax = 4*Ek0\n",
    "    return Ek0\n",
    "\n",
    "def DEmin(I):\n",
    "    DEmax = I\n",
    "    return DEmax\n",
    "\n",
    "\n",
    "\n"
   ]
  },
  {
   "cell_type": "markdown",
   "id": "3e6a7b77",
   "metadata": {},
   "source": [
    "## Ejercicio 4"
   ]
  },
  {
   "cell_type": "markdown",
   "id": "973af4b8",
   "metadata": {},
   "source": [
    "## Ejercicio 5"
   ]
  }
 ],
 "metadata": {
  "language_info": {
   "name": "python"
  }
 },
 "nbformat": 4,
 "nbformat_minor": 5
}
